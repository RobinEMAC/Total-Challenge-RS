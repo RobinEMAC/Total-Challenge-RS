{
 "cells": [
  {
   "cell_type": "code",
   "execution_count": 2,
   "metadata": {},
   "outputs": [
    {
     "data": {
      "image/png": "[encoded data removed]",
      "text/plain": [
       "<matplotlib.figure.Figure at 0x7f69ed6e0f98>"
      ]
     },
     "metadata": {},
     "output_type": "display_data"
    }
   ],
   "source": [
    "import sklearn\n",
    "import numpy as np\n",
    "import pandas as pd\n",
    "from sklearn import linear_model\n",
    "from sklearn.metrics import mean_squared_error, r2_score\n",
    "from sklearn.model_selection import train_test_split\n",
    "import matplotlib.pyplot as plt\n",
    "\n",
    "from string import ascii_letters\n",
    "import seaborn as sns\n",
    "\n",
    "column_names = ['API','Surf_X','Surf_Y','Date_Drilling','Date_Completion','Date_Production','Lateral_Length','Depth_TVD_PPLS','Erosion_PPLS','Pressure_PPLS','TOC_PPLS','Vcarb_PPLS','Vsand_PPLS','Vclay_PPLS','PR_PPLS','YM_PPLS','RHOB_PPLS','Res_PPLS','GR_PPLS','DT_PPLS','DTs_PPLS','Temperature','Temp_Anomaly','S3Tect_PPLS','S3_contrast_PPLS','Heat_Flow','Zone','Nbr_Stages','Frac_Gradient','Proppant_Designed','Proppant_in_Formation','Avg_Breakdown_Pressure','Avg_Treating_Pressure','Max_Treating_pressure','Min_Treating_Pressure','Avg_Rate_Slurry','Max_Rate_Slurry','Min_Rate_Slurry','ShutInPressure_Fil','ShutInPressure_Initial','ISIP','Shot_Density','Shot_Total','Proppant_per_ft','Stage_Spacing','GasCum360','OilCum360']\n",
    "\n",
    "#DataFrame de du document complet avec pour indice principal 'API'\n",
    "df = pd.read_csv('TrainSample.csv', sep=\";\", header = None , names = column_names, skiprows=1, decimal=\",\")\n",
    "df.set_index('API')\n",
    "\n",
    "#dropna sers à retirer les lignes où les valeurs sont Null avec les caractéristiques mentionnées\n",
    "df=df.dropna(subset=['ShutInPressure_Initial','GasCum360'])\n",
    "X=df.ShutInPressure_Initial.values\n",
    "Y=df.GasCum360.values\n",
    "X = X.reshape(len(df.index), 1)\n",
    "Y = Y.reshape(len(df.index), 1)\n",
    "regr = linear_model.LinearRegression()\n",
    "regr.fit(X, Y)\n",
    "\n",
    "#Affichage du scatterplot de 'ShutInPressure_Initial' en fonction de 'GasCum360'\n",
    "plt.scatter(X, Y,  color='black')\n",
    "plt.plot(X, regr.predict(X), color='blue', linewidth=3)\n",
    "plt.xticks(())\n",
    "plt.yticks(())\n",
    "plt.show()"
   ]
  },
  {
   "cell_type": "code",
   "execution_count": 3,
   "metadata": {},
   "outputs": [
    {
     "data": {
      "image/png": "[encoded data removed]",
      "text/plain": [
       "<matplotlib.figure.Figure at 0x7f6a07ff1ba8>"
      ]
     },
     "metadata": {},
     "output_type": "display_data"
    }
   ],
   "source": [
    "df=df.dropna(subset=['GasCum360'])\n",
    "Y=df.GasCum360.values\n",
    "X=np.linspace(1,np.shape(Y)[0],num=np.shape(Y)[0])\n",
    "Y2=np.\n",
    "X = X.reshape(len(df.index), 1)\n",
    "Y = Y.reshape(len(df.index), 1)\n",
    "\n",
    "\n",
    "#Affichage du scatterplot de 'ShutInPressure_Initial' en fonction de 'GasCum360'\n",
    "plt.scatter(X, sorted(Y),  color='black')\n",
    "plt.plot(X, , color='blue')\n",
    "plt.xticks(())\n",
    "plt.yticks(())\n",
    "plt.show()"
   ]
  },
  {
   "cell_type": "code",
   "execution_count": 8,
   "metadata": {},
   "outputs": [],
   "source": [
    "from sklearn.cluster import KMeans\n",
    "#Crétation de cluster\n",
    "kmeans = KMeans(n_clusters=4).fit(Y)\n",
    "k=kmeans.predict(Y)\n",
    "df2 = pd.DataFrame(k, index=df.API.values,columns=['Cluster'])"
   ]
  },
  {
   "cell_type": "code",
   "execution_count": 9,
   "metadata": {
    "collapsed": true
   },
   "outputs": [],
   "source": [
    "df3 = pd.concat([df,df2],axis=1, join_axes=[df.index])\n",
    "df3 = df3.sort_values('GasCum360')"
   ]
  },
  {
   "cell_type": "code",
   "execution_count": null,
   "metadata": {
    "collapsed": true
   },
   "outputs": [],
   "source": []
  }
 ],
 "metadata": {
  "kernelspec": {
   "display_name": "Python 3",
   "language": "python",
   "name": "python3"
  },
  "language_info": {
   "codemirror_mode": {
    "name": "ipython",
    "version": 3
   },
   "file_extension": ".py",
   "mimetype": "text/x-python",
   "name": "python",
   "nbconvert_exporter": "python",
   "pygments_lexer": "ipython3",
   "version": "3.6.3"
  }
 },
 "nbformat": 4,
 "nbformat_minor": 2
}
